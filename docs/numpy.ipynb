{
 "cells": [
  {
   "cell_type": "markdown",
   "metadata": {},
   "source": [
    "NumPy Support\n",
    "=============\n",
    "\n",
    "The magnitude of a Pint quantity can be of any numerical scalar type, and you are free\n",
    "to choose it according to your needs. For numerical applications requiring arrays, it is\n",
    "quite convenient to use [NumPy ndarray](http://docs.scipy.org/doc/numpy/reference/generated/numpy.ndarray.html) (or [ndarray-like types supporting NEP-18](https://numpy.org/neps/nep-0018-array-function-protocol.html)),\n",
    "and therefore these are the array types supported by Pint.\n",
    "\n",
    "First, we import the relevant packages:"
   ]
  },
  {
   "cell_type": "code",
   "execution_count": 1,
   "metadata": {},
   "outputs": [],
   "source": [
    "# Import NumPy\n",
    "import numpy as np\n",
    "\n",
    "# Disable Pint's old fallback behavior (must come before importing Pint)\n",
    "import os\n",
    "os.environ['PINT_ARRAY_PROTOCOL_FALLBACK'] = \"0\"\n",
    "\n",
    "# Import Pint\n",
    "import pint\n",
    "ureg = pint.UnitRegistry()\n",
    "Q_ = ureg.Quantity\n",
    "\n",
    "# Silence NEP 18 warning\n",
    "import warnings\n",
    "with warnings.catch_warnings():\n",
    "    warnings.simplefilter(\"ignore\")\n",
    "    Q_([])"
   ]
  },
  {
   "cell_type": "markdown",
   "metadata": {},
   "source": [
    "and then we create a quantity the standard way"
   ]
  },
  {
   "cell_type": "code",
   "execution_count": 2,
   "metadata": {},
   "outputs": [
    {
     "name": "stdout",
     "output_type": "stream",
     "text": [
      "[3.0 4.0] meter\n"
     ]
    }
   ],
   "source": [
    "legs1 = Q_(np.asarray([3., 4.]), 'meter')\n",
    "print(legs1)"
   ]
  },
  {
   "cell_type": "code",
   "execution_count": 3,
   "metadata": {},
   "outputs": [
    {
     "name": "stdout",
     "output_type": "stream",
     "text": [
      "[3.0 4.0] meter\n"
     ]
    }
   ],
   "source": [
    "legs1 = [3., 4.] * ureg.meter\n",
    "print(legs1)"
   ]
  },
  {
   "cell_type": "markdown",
   "metadata": {},
   "source": [
    "All usual Pint methods can be used with this quantity. For example:"
   ]
  },
  {
   "cell_type": "code",
   "execution_count": 4,
   "metadata": {},
   "outputs": [
    {
     "name": "stdout",
     "output_type": "stream",
     "text": [
      "[0.003 0.004] kilometer\n"
     ]
    }
   ],
   "source": [
    "print(legs1.to('kilometer'))"
   ]
  },
  {
   "cell_type": "code",
   "execution_count": 5,
   "metadata": {},
   "outputs": [
    {
     "name": "stdout",
     "output_type": "stream",
     "text": [
      "[length]\n"
     ]
    }
   ],
   "source": [
    "print(legs1.dimensionality)"
   ]
  },
  {
   "cell_type": "code",
   "execution_count": 6,
   "metadata": {},
   "outputs": [
    {
     "name": "stdout",
     "output_type": "stream",
     "text": [
      "Cannot convert from 'meter' ([length]) to 'joule' ([length] ** 2 * [mass] / [time] ** 2)\n"
     ]
    }
   ],
   "source": [
    "try:\n",
    "    legs1.to('joule')\n",
    "except pint.DimensionalityError as exc:\n",
    "    print(exc)"
   ]
  },
  {
   "cell_type": "markdown",
   "metadata": {},
   "source": [
    "NumPy functions are supported by Pint. For example if we define:"
   ]
  },
  {
   "cell_type": "code",
   "execution_count": 7,
   "metadata": {},
   "outputs": [
    {
     "name": "stdout",
     "output_type": "stream",
     "text": [
      "[400.0 300.0] centimeter\n"
     ]
    }
   ],
   "source": [
    "legs2 = [400., 300.] * ureg.centimeter\n",
    "print(legs2)"
   ]
  },
  {
   "cell_type": "markdown",
   "metadata": {},
   "source": [
    "we can calculate the hypotenuse of the right triangles with legs1 and legs2."
   ]
  },
  {
   "cell_type": "code",
   "execution_count": 8,
   "metadata": {},
   "outputs": [
    {
     "name": "stdout",
     "output_type": "stream",
     "text": [
      "[5.0 5.0] meter\n"
     ]
    }
   ],
   "source": [
    "hyps = np.hypot(legs1, legs2)\n",
    "print(hyps)"
   ]
  },
  {
   "cell_type": "markdown",
   "metadata": {},
   "source": [
    "Notice that before the `np.hypot` was used, the numerical value of legs2 was\n",
    "internally converted to the units of legs1 as expected.\n",
    "\n",
    "Similarly, when you apply a function that expects angles in radians, a conversion\n",
    "is applied before the requested calculation:"
   ]
  },
  {
   "cell_type": "code",
   "execution_count": 9,
   "metadata": {},
   "outputs": [
    {
     "name": "stdout",
     "output_type": "stream",
     "text": [
      "[0.6435011087932843 0.9272952180016123] radian\n"
     ]
    }
   ],
   "source": [
    "angles = np.arccos(legs2/hyps)\n",
    "print(angles)"
   ]
  },
  {
   "cell_type": "markdown",
   "metadata": {},
   "source": [
    "You can convert the result to degrees using usual unit conversion:"
   ]
  },
  {
   "cell_type": "code",
   "execution_count": 10,
   "metadata": {},
   "outputs": [
    {
     "name": "stdout",
     "output_type": "stream",
     "text": [
      "[36.86989764584401 53.13010235415599] degree\n"
     ]
    }
   ],
   "source": [
    "print(angles.to('degree'))"
   ]
  },
  {
   "cell_type": "markdown",
   "metadata": {},
   "source": [
    "Applying a function that expects angles to a quantity with a different dimensionality\n",
    "results in an error:"
   ]
  },
  {
   "cell_type": "code",
   "execution_count": 11,
   "metadata": {},
   "outputs": [
    {
     "name": "stdout",
     "output_type": "stream",
     "text": [
      "Cannot convert from 'centimeter' ([length]) to 'dimensionless' (dimensionless)\n"
     ]
    }
   ],
   "source": [
    "try:\n",
    "    np.arccos(legs2)\n",
    "except pint.DimensionalityError as exc:\n",
    "    print(exc)"
   ]
  },
  {
   "cell_type": "markdown",
   "metadata": {},
   "source": [
    "Function/Method Support\n",
    "-----------------------\n",
    "\n",
    "The following [ufuncs](http://docs.scipy.org/doc/numpy/reference/ufuncs.html) can be applied to a Quantity object:\n",
    "\n",
    "- **Math operations**: `add`, `subtract`, `multiply`, `divide`, `logaddexp`, `logaddexp2`, `true_divide`, `floor_divide`, `negative`, `remainder`, `mod`, `fmod`, `absolute`, `rint`, `sign`, `conj`, `exp`, `exp2`, `log`, `log2`, `log10`, `expm1`, `log1p`, `sqrt`, `square`, `reciprocal`\n",
    "- **Trigonometric functions**: `sin`, `cos`, `tan`, `arcsin`, `arccos`, `arctan`, `arctan2`, `hypot`, `sinh`, `cosh`, `tanh`, `arcsinh`, `arccosh`, `arctanh`\n",
    "- **Comparison functions**: `greater`, `greater_equal`, `less`, `less_equal`, `not_equal`, `equal`\n",
    "- **Floating functions**: `isreal`, `iscomplex`, `isfinite`, `isinf`, `isnan`, `signbit`, `copysign`, `nextafter`, `modf`, `ldexp`, `frexp`, `fmod`, `floor`, `ceil`, `trunc`\n",
    "\n",
    "And the following NumPy functions:"
   ]
  },
  {
   "cell_type": "code",
   "execution_count": 12,
   "metadata": {},
   "outputs": [
    {
     "name": "stdout",
     "output_type": "stream",
     "text": [
      "['alen', 'amax', 'amin', 'append', 'argmax', 'argmin', 'argsort', 'around', 'atleast_1d', 'atleast_2d', 'atleast_3d', 'average', 'block', 'broadcast_to', 'clip', 'column_stack', 'compress', 'concatenate', 'copy', 'copyto', 'count_nonzero', 'cross', 'cumprod', 'cumproduct', 'cumsum', 'diagonal', 'diff', 'dot', 'dstack', 'ediff1d', 'einsum', 'empty_like', 'expand_dims', 'fix', 'flip', 'full_like', 'gradient', 'hstack', 'insert', 'interp', 'isclose', 'iscomplex', 'isin', 'isreal', 'linspace', 'mean', 'median', 'meshgrid', 'moveaxis', 'nan_to_num', 'nanargmax', 'nanargmin', 'nancumprod', 'nancumsum', 'nanmax', 'nanmean', 'nanmedian', 'nanmin', 'nanpercentile', 'nanstd', 'nansum', 'nanvar', 'ndim', 'nonzero', 'ones_like', 'pad', 'percentile', 'ptp', 'ravel', 'resize', 'result_type', 'rollaxis', 'rot90', 'round_', 'searchsorted', 'shape', 'size', 'sort', 'squeeze', 'stack', 'std', 'sum', 'swapaxes', 'tile', 'transpose', 'trapz', 'trim_zeros', 'unwrap', 'var', 'vstack', 'where', 'zeros_like']\n"
     ]
    }
   ],
   "source": [
    "from pint.numpy_func import HANDLED_FUNCTIONS\n",
    "print(sorted(list(HANDLED_FUNCTIONS)))"
   ]
  },
  {
   "cell_type": "markdown",
   "metadata": {},
   "source": [
    "And the following [NumPy ndarray methods](http://docs.scipy.org/doc/numpy/reference/arrays.ndarray.html#array-methods):\n",
    "\n",
    "- `argmax`, `argmin`, `argsort`, `astype`, `clip`, `compress`, `conj`, `conjugate`, `cumprod`, `cumsum`, `diagonal`, `dot`, `fill`, `flatten`, `flatten`, `item`, `max`, `mean`, `min`, `nonzero`, `prod`, `ptp`, `put`, `ravel`, `repeat`, `reshape`, `round`, `searchsorted`, `sort`, `squeeze`, `std`, `sum`, `take`, `trace`, `transpose`, `var`\n",
    "\n",
    "Pull requests are welcome for any NumPy function, ufunc, or method that is not currently\n",
    "supported.\n"
   ]
  },
  {
   "cell_type": "markdown",
   "metadata": {},
   "source": [
    "Array Type Support\n",
    "------------------\n",
    "\n",
    "### Overview\n",
    "\n",
    "When not wrapping a scalar type, a Pint `Quantity` can be considered a [\"duck array\"](https://numpy.org/neps/nep-0022-ndarray-duck-typing-overview.html), that is, an array-like type that implements (all or most of) NumPy's API for `ndarray`. Many other such duck arrays exist in the Python ecosystem, and Pint aims to work with as many of them as reasonably possible. To date, the following are specifically tested and known to work:\n",
    "\n",
    "- xarray: `DataArray`, `Dataset`, and `Variable`\n",
    "- Sparse: `COO`\n",
    "- NumPy: masked arrays\n",
    "\n",
    "and the following have partial support, with full integration planned:\n",
    "\n",
    "- Dask arrays\n",
    "- CuPy arrays\n",
    "\n",
    "### Technical Commentary\n",
    "\n",
    "Starting with version 0.10, Pint aims to interoperate with other duck arrays in a well-defined and well-supported fashion. Part of this support lies in implementing [`__array_ufunc__` to support NumPy ufuncs](https://numpy.org/neps/nep-0013-ufunc-overrides.html) and [`__array_function__` to support NumPy functions](https://numpy.org/neps/nep-0018-array-function-protocol.html). However, the central component to this interoperability is respecting a [type casting hierarchy](https://numpy.org/neps/nep-0018-array-function-protocol.html) of duck arrays. When all types in the hierarchy properly defer to those above it (in wrapping, arithmetic, and NumPy operations), a well-defined nesting and operator precedence order exists. When they don't, the graph of relations becomes cyclic, and the expected result of mixed-type operations becomes ambiguous.\n",
    "\n",
    "For Pint, following this hierarchy means declaring a list of types that are above it in the hierarchy and to which it defers (\"upcast types\") and assuming all others are below it and wrappable by it (\"downcast types\"). To date, Pint's declared upcast types are:\n",
    "\n",
    "- `PintArray`, as defined by pint-pandas\n",
    "- `Series`, as defined by Pandas\n",
    "- `DataArray`, `Dataset`, and `Variable`, as defined by xarray\n",
    "\n",
    "(Note: if your application requires extension of this collection of types, it is available in Pint's API at `pint.compat.upcast_types`.)\n",
    "\n",
    "While Pint assumes it can wrap any other duck array (meaning, for now, those that implement `__array_function__`, `shape`, `ndim`, and `dtype`, at least until [NEP 30](https://numpy.org/neps/nep-0030-duck-array-protocol.html) is implemented), there are a few common types that Pint explicitly tests (or plans to test) for optimal interoperability. These are listed above in the overview section and included in the below chart.\n",
    "\n",
    "This type casting hierarchy of ndarray-like types can be shown by the below acyclic graph, where solid lines represent declared support, and dashed lines represent planned support:"
   ]
  },
  {
   "cell_type": "code",
   "execution_count": 13,
   "metadata": {},
   "outputs": [
    {
     "data": {
      "image/svg+xml": [
       "<?xml version=\"1.0\" encoding=\"UTF-8\" standalone=\"no\"?>\n",
       "<!DOCTYPE svg PUBLIC \"-//W3C//DTD SVG 1.1//EN\"\n",
       " \"http://www.w3.org/Graphics/SVG/1.1/DTD/svg11.dtd\">\n",
       "<!-- Generated by graphviz version 2.38.0 (20140413.2041)\n",
       " -->\n",
       "<!-- Title: %3 Pages: 1 -->\n",
       "<svg width=\"576pt\" height=\"298pt\"\n",
       " viewBox=\"0.00 0.00 576.00 297.61\" xmlns=\"http://www.w3.org/2000/svg\" xmlns:xlink=\"http://www.w3.org/1999/xlink\">\n",
       "<g id=\"graph0\" class=\"graph\" transform=\"scale(0.896419 0.896419) rotate(0) translate(4 328)\">\n",
       "<title>%3</title>\n",
       "<polygon fill=\"white\" stroke=\"none\" points=\"-4,4 -4,-328 638.556,-328 638.556,4 -4,4\"/>\n",
       "<!-- Dask array -->\n",
       "<g id=\"node1\" class=\"node\"><title>Dask array</title>\n",
       "<ellipse fill=\"none\" stroke=\"black\" cx=\"260.112\" cy=\"-162\" rx=\"64.189\" ry=\"18\"/>\n",
       "<text text-anchor=\"middle\" x=\"260.112\" y=\"-158.3\" font-family=\"Courier,monospace\" font-size=\"14.00\">Dask array</text>\n",
       "</g>\n",
       "<!-- NumPy ndarray -->\n",
       "<g id=\"node2\" class=\"node\"><title>NumPy ndarray</title>\n",
       "<ellipse fill=\"none\" stroke=\"black\" cx=\"280.112\" cy=\"-18\" rx=\"80.6858\" ry=\"18\"/>\n",
       "<text text-anchor=\"middle\" x=\"280.112\" y=\"-14.3\" font-family=\"Courier,monospace\" font-size=\"14.00\">NumPy ndarray</text>\n",
       "</g>\n",
       "<!-- Dask array&#45;&gt;NumPy ndarray -->\n",
       "<g id=\"edge1\" class=\"edge\"><title>Dask array&#45;&gt;NumPy ndarray</title>\n",
       "<path fill=\"none\" stroke=\"black\" d=\"M232.02,-145.73C218.488,-136.711 203.602,-123.927 196.112,-108 189.303,-93.521 188.385,-86.0108 196.112,-72 203.967,-57.7555 217.44,-46.8122 231.323,-38.6715\"/>\n",
       "<polygon fill=\"black\" stroke=\"black\" points=\"233.329,-41.5648 240.45,-33.72 229.991,-35.4119 233.329,-41.5648\"/>\n",
       "</g>\n",
       "<!-- CuPy ndarray -->\n",
       "<g id=\"node3\" class=\"node\"><title>CuPy ndarray</title>\n",
       "<ellipse fill=\"none\" stroke=\"black\" cx=\"280.112\" cy=\"-90\" rx=\"75.2868\" ry=\"18\"/>\n",
       "<text text-anchor=\"middle\" x=\"280.112\" y=\"-86.3\" font-family=\"Courier,monospace\" font-size=\"14.00\">CuPy ndarray</text>\n",
       "</g>\n",
       "<!-- Dask array&#45;&gt;CuPy ndarray -->\n",
       "<g id=\"edge2\" class=\"edge\"><title>Dask array&#45;&gt;CuPy ndarray</title>\n",
       "<path fill=\"none\" stroke=\"black\" d=\"M265.056,-143.697C267.284,-135.898 269.967,-126.509 272.446,-117.829\"/>\n",
       "<polygon fill=\"black\" stroke=\"black\" points=\"275.843,-118.681 275.225,-108.104 269.112,-116.758 275.843,-118.681\"/>\n",
       "</g>\n",
       "<!-- Sparse COO -->\n",
       "<g id=\"node4\" class=\"node\"><title>Sparse COO</title>\n",
       "<ellipse fill=\"none\" stroke=\"black\" cx=\"85.1118\" cy=\"-90\" rx=\"64.189\" ry=\"18\"/>\n",
       "<text text-anchor=\"middle\" x=\"85.1118\" y=\"-86.3\" font-family=\"Courier,monospace\" font-size=\"14.00\">Sparse COO</text>\n",
       "</g>\n",
       "<!-- Dask array&#45;&gt;Sparse COO -->\n",
       "<g id=\"edge3\" class=\"edge\"><title>Dask array&#45;&gt;Sparse COO</title>\n",
       "<path fill=\"none\" stroke=\"black\" d=\"M224.698,-146.834C197.42,-135.923 159.523,-120.765 130.099,-108.995\"/>\n",
       "<polygon fill=\"black\" stroke=\"black\" points=\"131.058,-105.609 120.473,-105.144 128.458,-112.108 131.058,-105.609\"/>\n",
       "</g>\n",
       "<!-- NumPy masked array -->\n",
       "<g id=\"node5\" class=\"node\"><title>NumPy masked array</title>\n",
       "<ellipse fill=\"none\" stroke=\"black\" cx=\"481.112\" cy=\"-90\" rx=\"107.482\" ry=\"18\"/>\n",
       "<text text-anchor=\"middle\" x=\"481.112\" y=\"-86.3\" font-family=\"Courier,monospace\" font-size=\"14.00\">NumPy masked array</text>\n",
       "</g>\n",
       "<!-- Dask array&#45;&gt;NumPy masked array -->\n",
       "<g id=\"edge4\" class=\"edge\"><title>Dask array&#45;&gt;NumPy masked array</title>\n",
       "<path fill=\"none\" stroke=\"black\" d=\"M300.904,-148.079C335.251,-137.2 384.785,-121.511 423.231,-109.333\"/>\n",
       "<polygon fill=\"black\" stroke=\"black\" points=\"424.777,-112.515 433.254,-106.159 422.664,-105.842 424.777,-112.515\"/>\n",
       "</g>\n",
       "<!-- CuPy ndarray&#45;&gt;NumPy ndarray -->\n",
       "<g id=\"edge5\" class=\"edge\"><title>CuPy ndarray&#45;&gt;NumPy ndarray</title>\n",
       "<path fill=\"none\" stroke=\"black\" d=\"M280.112,-71.6966C280.112,-63.9827 280.112,-54.7125 280.112,-46.1124\"/>\n",
       "<polygon fill=\"black\" stroke=\"black\" points=\"283.612,-46.1043 280.112,-36.1043 276.612,-46.1044 283.612,-46.1043\"/>\n",
       "</g>\n",
       "<!-- Sparse COO&#45;&gt;NumPy ndarray -->\n",
       "<g id=\"edge6\" class=\"edge\"><title>Sparse COO&#45;&gt;NumPy ndarray</title>\n",
       "<path fill=\"none\" stroke=\"black\" d=\"M123.173,-75.3371C153.638,-64.4008 196.624,-48.97 229.907,-37.0224\"/>\n",
       "<polygon fill=\"black\" stroke=\"black\" points=\"231.228,-40.2666 239.458,-33.5937 228.863,-33.6783 231.228,-40.2666\"/>\n",
       "</g>\n",
       "<!-- NumPy masked array&#45;&gt;NumPy ndarray -->\n",
       "<g id=\"edge7\" class=\"edge\"><title>NumPy masked array&#45;&gt;NumPy ndarray</title>\n",
       "<path fill=\"none\" stroke=\"black\" d=\"M436.503,-73.4647C405.478,-62.66 364.034,-48.2266 331.604,-36.9326\"/>\n",
       "<polygon fill=\"black\" stroke=\"black\" points=\"332.445,-33.5195 321.851,-33.5359 330.143,-40.1301 332.445,-33.5195\"/>\n",
       "</g>\n",
       "<!-- Jax array -->\n",
       "<g id=\"node6\" class=\"node\"><title>Jax array</title>\n",
       "<ellipse fill=\"none\" stroke=\"black\" cx=\"541.112\" cy=\"-162\" rx=\"59.2899\" ry=\"18\"/>\n",
       "<text text-anchor=\"middle\" x=\"541.112\" y=\"-158.3\" font-family=\"Courier,monospace\" font-size=\"14.00\">Jax array</text>\n",
       "</g>\n",
       "<!-- Jax array&#45;&gt;NumPy ndarray -->\n",
       "<g id=\"edge8\" class=\"edge\"><title>Jax array&#45;&gt;NumPy ndarray</title>\n",
       "<path fill=\"none\" stroke=\"black\" d=\"M563.439,-144.978C586.619,-126.421 616.93,-95.4064 597.112,-72 568.441,-38.1377 453.053,-25.8938 369.756,-21.4767\"/>\n",
       "<polygon fill=\"black\" stroke=\"black\" points=\"369.928,-17.981 359.765,-20.9759 369.577,-24.9723 369.928,-17.981\"/>\n",
       "</g>\n",
       "<!-- Pint Quantity -->\n",
       "<g id=\"node7\" class=\"node\"><title>Pint Quantity</title>\n",
       "<ellipse fill=\"none\" stroke=\"black\" cx=\"168.112\" cy=\"-234\" rx=\"80.6858\" ry=\"18\"/>\n",
       "<text text-anchor=\"middle\" x=\"168.112\" y=\"-230.3\" font-family=\"Courier,monospace\" font-size=\"14.00\">Pint Quantity</text>\n",
       "</g>\n",
       "<!-- Pint Quantity&#45;&gt;Dask array -->\n",
       "<g id=\"edge9\" class=\"edge\"><title>Pint Quantity&#45;&gt;Dask array</title>\n",
       "<path fill=\"none\" stroke=\"black\" stroke-dasharray=\"5,2\" d=\"M189.915,-216.411C202.032,-207.191 217.281,-195.588 230.468,-185.555\"/>\n",
       "<polygon fill=\"black\" stroke=\"black\" points=\"232.944,-188.069 238.783,-179.228 228.705,-182.498 232.944,-188.069\"/>\n",
       "</g>\n",
       "<!-- Pint Quantity&#45;&gt;NumPy ndarray -->\n",
       "<g id=\"edge10\" class=\"edge\"><title>Pint Quantity&#45;&gt;NumPy ndarray</title>\n",
       "<path fill=\"none\" stroke=\"black\" d=\"M132.523,-217.588C73.2668,-189.826 -34.7087,-128.987 12.1118,-72 34.8187,-44.3628 123.802,-30.894 193.081,-24.492\"/>\n",
       "<polygon fill=\"black\" stroke=\"black\" points=\"193.499,-27.9689 203.15,-23.5979 192.879,-20.9963 193.499,-27.9689\"/>\n",
       "</g>\n",
       "<!-- Pint Quantity&#45;&gt;CuPy ndarray -->\n",
       "<g id=\"edge11\" class=\"edge\"><title>Pint Quantity&#45;&gt;CuPy ndarray</title>\n",
       "<path fill=\"none\" stroke=\"black\" stroke-dasharray=\"5,2\" d=\"M167.756,-215.93C168.195,-196.681 171.534,-165.296 187.112,-144 197.935,-129.205 214.225,-117.943 230.162,-109.687\"/>\n",
       "<polygon fill=\"black\" stroke=\"black\" points=\"231.995,-112.688 239.46,-105.17 228.936,-106.391 231.995,-112.688\"/>\n",
       "</g>\n",
       "<!-- Pint Quantity&#45;&gt;Sparse COO -->\n",
       "<g id=\"edge12\" class=\"edge\"><title>Pint Quantity&#45;&gt;Sparse COO</title>\n",
       "<path fill=\"none\" stroke=\"black\" d=\"M158.1,-215.871C143.705,-191.244 117.048,-145.638 100.242,-116.885\"/>\n",
       "<polygon fill=\"black\" stroke=\"black\" points=\"103.227,-115.056 95.1591,-108.189 97.1837,-118.589 103.227,-115.056\"/>\n",
       "</g>\n",
       "<!-- xarray Dataset/DataArray/Variable -->\n",
       "<g id=\"node8\" class=\"node\"><title>xarray Dataset/DataArray/Variable</title>\n",
       "<ellipse fill=\"none\" stroke=\"black\" cx=\"352.112\" cy=\"-306\" rx=\"187.667\" ry=\"18\"/>\n",
       "<text text-anchor=\"middle\" x=\"352.112\" y=\"-302.3\" font-family=\"Courier,monospace\" font-size=\"14.00\">xarray Dataset/DataArray/Variable</text>\n",
       "</g>\n",
       "<!-- xarray Dataset/DataArray/Variable&#45;&gt;Dask array -->\n",
       "<g id=\"edge13\" class=\"edge\"><title>xarray Dataset/DataArray/Variable&#45;&gt;Dask array</title>\n",
       "<path fill=\"none\" stroke=\"black\" d=\"M341.014,-287.871C324.972,-263.111 295.191,-217.144 276.581,-188.42\"/>\n",
       "<polygon fill=\"black\" stroke=\"black\" points=\"279.338,-186.238 270.963,-179.748 273.463,-190.044 279.338,-186.238\"/>\n",
       "</g>\n",
       "<!-- xarray Dataset/DataArray/Variable&#45;&gt;NumPy ndarray -->\n",
       "<g id=\"edge16\" class=\"edge\"><title>xarray Dataset/DataArray/Variable&#45;&gt;NumPy ndarray</title>\n",
       "<path fill=\"none\" stroke=\"black\" d=\"M428.281,-289.459C487.933,-273.003 567.544,-240.684 609.112,-180 636.279,-140.339 646.337,-108.553 615.112,-72 584.178,-35.7873 458.575,-24.1774 370.296,-20.537\"/>\n",
       "<polygon fill=\"black\" stroke=\"black\" points=\"370.391,-17.0381 360.264,-20.1506 370.121,-24.0329 370.391,-17.0381\"/>\n",
       "</g>\n",
       "<!-- xarray Dataset/DataArray/Variable&#45;&gt;CuPy ndarray -->\n",
       "<g id=\"edge14\" class=\"edge\"><title>xarray Dataset/DataArray/Variable&#45;&gt;CuPy ndarray</title>\n",
       "<path fill=\"none\" stroke=\"black\" stroke-dasharray=\"5,2\" d=\"M353.657,-287.524C355.615,-256.809 356.318,-191.866 333.112,-144 327.711,-132.861 319.005,-122.681 310.197,-114.287\"/>\n",
       "<polygon fill=\"black\" stroke=\"black\" points=\"312.29,-111.463 302.51,-107.39 307.616,-116.673 312.29,-111.463\"/>\n",
       "</g>\n",
       "<!-- xarray Dataset/DataArray/Variable&#45;&gt;Sparse COO -->\n",
       "<g id=\"edge15\" class=\"edge\"><title>xarray Dataset/DataArray/Variable&#45;&gt;Sparse COO</title>\n",
       "<path fill=\"none\" stroke=\"black\" d=\"M210.824,-294.083C153.184,-286.423 95.881,-273.536 78.1118,-252 46.8339,-214.092 61.7759,-152.403 74.2348,-117.417\"/>\n",
       "<polygon fill=\"black\" stroke=\"black\" points=\"77.5749,-118.478 77.8049,-107.885 71.0196,-116.022 77.5749,-118.478\"/>\n",
       "</g>\n",
       "<!-- xarray Dataset/DataArray/Variable&#45;&gt;NumPy masked array -->\n",
       "<g id=\"edge17\" class=\"edge\"><title>xarray Dataset/DataArray/Variable&#45;&gt;NumPy masked array</title>\n",
       "<path fill=\"none\" stroke=\"black\" stroke-dasharray=\"5,2\" d=\"M362.45,-287.849C385.056,-250.348 438.987,-160.881 465.649,-116.652\"/>\n",
       "<polygon fill=\"black\" stroke=\"black\" points=\"468.738,-118.307 470.903,-107.935 462.743,-114.693 468.738,-118.307\"/>\n",
       "</g>\n",
       "<!-- xarray Dataset/DataArray/Variable&#45;&gt;Jax array -->\n",
       "<g id=\"edge19\" class=\"edge\"><title>xarray Dataset/DataArray/Variable&#45;&gt;Jax array</title>\n",
       "<path fill=\"none\" stroke=\"black\" stroke-dasharray=\"5,2\" d=\"M374.91,-287.871C409.23,-262.086 474.159,-213.303 511.903,-184.945\"/>\n",
       "<polygon fill=\"black\" stroke=\"black\" points=\"514.083,-187.685 519.976,-178.88 509.878,-182.089 514.083,-187.685\"/>\n",
       "</g>\n",
       "<!-- xarray Dataset/DataArray/Variable&#45;&gt;Pint Quantity -->\n",
       "<g id=\"edge18\" class=\"edge\"><title>xarray Dataset/DataArray/Variable&#45;&gt;Pint Quantity</title>\n",
       "<path fill=\"none\" stroke=\"black\" d=\"M308.506,-288.411C280.818,-277.877 244.953,-264.233 216.404,-253.372\"/>\n",
       "<polygon fill=\"black\" stroke=\"black\" points=\"217.616,-250.088 207.025,-249.804 215.126,-256.631 217.616,-250.088\"/>\n",
       "</g>\n",
       "</g>\n",
       "</svg>\n"
      ],
      "text/plain": [
       "<graphviz.dot.Digraph at 0x7fbc2d4e5240>"
      ]
     },
     "execution_count": 13,
     "metadata": {},
     "output_type": "execute_result"
    }
   ],
   "source": [
    "from graphviz import Digraph\n",
    "\n",
    "g = Digraph(graph_attr={'size': '8,5'}, node_attr={'fontname': 'courier'})\n",
    "g.edge('Dask array', 'NumPy ndarray')\n",
    "g.edge('Dask array', 'CuPy ndarray')\n",
    "g.edge('Dask array', 'Sparse COO')\n",
    "g.edge('Dask array', 'NumPy masked array')\n",
    "g.edge('CuPy ndarray', 'NumPy ndarray')\n",
    "g.edge('Sparse COO', 'NumPy ndarray')\n",
    "g.edge('NumPy masked array', 'NumPy ndarray')\n",
    "g.edge('Jax array', 'NumPy ndarray')\n",
    "g.edge('Pint Quantity', 'Dask array', style='dashed')\n",
    "g.edge('Pint Quantity', 'NumPy ndarray')\n",
    "g.edge('Pint Quantity', 'CuPy ndarray', style='dashed')\n",
    "g.edge('Pint Quantity', 'Sparse COO')\n",
    "g.edge('xarray Dataset/DataArray/Variable', 'Dask array')\n",
    "g.edge('xarray Dataset/DataArray/Variable', 'CuPy ndarray', style='dashed')\n",
    "g.edge('xarray Dataset/DataArray/Variable', 'Sparse COO')\n",
    "g.edge('xarray Dataset/DataArray/Variable', 'NumPy ndarray')\n",
    "g.edge('xarray Dataset/DataArray/Variable', 'NumPy masked array', style='dashed')\n",
    "g.edge('xarray Dataset/DataArray/Variable', 'Pint Quantity')\n",
    "g.edge('xarray Dataset/DataArray/Variable', 'Jax array', style='dashed')\n",
    "g"
   ]
  },
  {
   "cell_type": "markdown",
   "metadata": {},
   "source": [
    "### Examples\n",
    "\n",
    "**xarray wrapping Pint Quantity**"
   ]
  },
  {
   "cell_type": "code",
   "execution_count": 14,
   "metadata": {},
   "outputs": [
    {
     "name": "stdout",
     "output_type": "stream",
     "text": [
      "<xarray.DataArray 'air' (lat: 25, lon: 53)>\n",
      "<Quantity([[241.2     242.5     243.5     ... 232.79999 235.5     238.59999]\n",
      " [243.79999 244.5     244.7     ... 232.79999 235.29999 239.29999]\n",
      " [250.      249.79999 248.89    ... 233.2     236.39    241.7    ]\n",
      " ...\n",
      " [296.6     296.19998 296.4     ... 295.4     295.1     294.69998]\n",
      " [295.9     296.19998 296.79    ... 295.9     295.9     295.19998]\n",
      " [296.29    296.79    297.1     ... 296.9     296.79    296.6    ]], 'kelvin')>\n",
      "Coordinates:\n",
      "  * lat      (lat) float32 75.0 72.5 70.0 67.5 65.0 ... 25.0 22.5 20.0 17.5 15.0\n",
      "  * lon      (lon) float32 200.0 202.5 205.0 207.5 ... 322.5 325.0 327.5 330.0\n",
      "    time     datetime64[ns] 2013-01-01\n",
      "Attributes:\n",
      "    long_name:     4xDaily Air temperature at sigma level 995\n",
      "    precision:     2\n",
      "    GRIB_id:       11\n",
      "    GRIB_name:     TMP\n",
      "    var_desc:      Air temperature\n",
      "    dataset:       NMC Reanalysis\n",
      "    level_desc:    Surface\n",
      "    statistic:     Individual Obs\n",
      "    parent_stat:   Other\n",
      "    actual_range:  [185.16 322.1 ]\n",
      "\n",
      "<xarray.DataArray 'air' ()>\n",
      "<Quantity(302.6000061035156, 'kelvin')>\n",
      "Coordinates:\n",
      "    time     datetime64[ns] 2013-01-01\n"
     ]
    }
   ],
   "source": [
    "import xarray as xr\n",
    "\n",
    "# Load tutorial data\n",
    "air = xr.tutorial.load_dataset('air_temperature')['air'][0]\n",
    "\n",
    "# Convert to Quantity\n",
    "air.data = Q_(air.data, air.attrs.pop('units', ''))\n",
    "\n",
    "print(air)\n",
    "print()\n",
    "print(air.max())"
   ]
  },
  {
   "cell_type": "markdown",
   "metadata": {},
   "source": [
    "**Pint Quantity wrapping Sparse COO**"
   ]
  },
  {
   "cell_type": "code",
   "execution_count": 15,
   "metadata": {},
   "outputs": [
    {
     "name": "stdout",
     "output_type": "stream",
     "text": [
      "<COO: shape=(100, 100, 100), dtype=float64, nnz=100226, fill_value=0.0> meter\n",
      "\n",
      "0.0952163965972451 meter\n"
     ]
    }
   ],
   "source": [
    "from sparse import COO\n",
    "\n",
    "x = np.random.random((100, 100, 100))\n",
    "x[x < 0.9] = 0  # fill most of the array with zeros\n",
    "s = COO(x)\n",
    "\n",
    "q = Q_(s, 'm')\n",
    "\n",
    "print(q)\n",
    "print()\n",
    "print(np.mean(q))"
   ]
  },
  {
   "cell_type": "markdown",
   "metadata": {},
   "source": [
    "**xarray wrapping Pint Quantity wrapping Dask array wrapping Sparse COO**"
   ]
  },
  {
   "cell_type": "code",
   "execution_count": 16,
   "metadata": {},
   "outputs": [
    {
     "name": "stdout",
     "output_type": "stream",
     "text": [
      "<xarray.DataArray 'test' (z: 100, y: 100, x: 100)>\n",
      "<Quantity(dask.array<COO, shape=(100, 100, 100), dtype=float64, chunksize=(100, 1, 1), chunktype=sparse.COO>, 'meter')>\n",
      "Coordinates:\n",
      "  * z        (z) int64 0 1 2 3 4 5 6 7 8 9 10 ... 90 91 92 93 94 95 96 97 98 99\n",
      "  * y        (y) int64 -50 -49 -48 -47 -46 -45 -44 -43 ... 43 44 45 46 47 48 49\n",
      "  * x        (x) float64 -20.0 -18.5 -17.0 -15.5 ... 124.0 125.5 127.0 128.5\n",
      "\n",
      "<xarray.DataArray 'test' ()>\n",
      "<Quantity(dask.array<mean_agg-aggregate, shape=(), dtype=float64, chunksize=(), chunktype=numpy.ndarray>, 'meter')>\n",
      "Coordinates:\n",
      "    y        int64 -46\n",
      "    x        float64 125.5\n"
     ]
    }
   ],
   "source": [
    "import dask.array as da\n",
    "\n",
    "x = da.random.random((100, 100, 100), chunks=(100, 1, 1))\n",
    "x[x < 0.95] = 0\n",
    "\n",
    "data = xr.DataArray(\n",
    "    Q_(x.map_blocks(COO), 'm'),\n",
    "    dims=('z', 'y', 'x'),\n",
    "    coords={\n",
    "        'z': np.arange(100),\n",
    "        'y': np.arange(100) - 50,\n",
    "        'x': np.arange(100) * 1.5 - 20\n",
    "    },\n",
    "    name='test'\n",
    ")\n",
    "\n",
    "print(data)\n",
    "print()\n",
    "print(data.sel(x=125.5, y=-46).mean())"
   ]
  },
  {
   "cell_type": "markdown",
   "metadata": {},
   "source": [
    "### Compatibility Packages\n",
    "\n",
    "To aid in integration between various array types and Pint (such as by providing convenience methods), the following compatibility packages are available:\n",
    "\n",
    "- [pint-pandas](https://github.com/hgrecco/pint-pandas)\n",
    "- pint-xarray ([in development](https://github.com/hgrecco/pint/issues/849), initial alpha release planned for January 2020)\n",
    "\n",
    "(Note: if you have developed a compatibility package for Pint, please submit a pull request to add it to this list!)"
   ]
  },
  {
   "cell_type": "markdown",
   "metadata": {},
   "source": [
    "## Additional Comments\n",
    "\n",
    "What follows is a short discussion about how NumPy support is implemented in Pint's `Quantity` Object.\n",
    "\n",
    "For the supported functions, Pint expects certain units and attempts to convert the input (or inputs). For example, the argument of the exponential function (`numpy.exp`) must be dimensionless. Units will be simplified (converting the magnitude appropriately) and `numpy.exp` will be applied to the resulting magnitude. If the input is not dimensionless, a `DimensionalityError` exception will be raised.\n",
    "\n",
    "In some functions that take 2 or more arguments (e.g. `arctan2`), the second argument is converted to the units of the first. Again, a `DimensionalityError` exception will be raised if this is not possible. ndarray or downcast type arguments are generally treated as if they were dimensionless quantities, whereas Pint defers to its declared upcast types by always returning `NotImplemented` when they are encountered (see above).\n",
    "\n",
    "To achive these function and ufunc overrides, Pint uses the ``__array_function__`` and ``__array_ufunc__`` protocols respectively, as recommened by NumPy. This means that functions and ufuncs that Pint does not explicitly handle will error, rather than return a value with units stripped (in contrast to Pint's behavior prior to v0.10). For more\n",
    "information on these protocols, see <https://docs.scipy.org/doc/numpy-1.17.0/user/basics.dispatch.html>.\n",
    "\n",
    "This behaviour introduces some performance penalties and increased memory usage. Quantities that must be converted to other units require additional memory and CPU cycles. Therefore, for numerically intensive code, you might want to convert the objects first and then use directly the magnitude, such as by using Pint's `wraps` utility (see [wrapping](wrapping.html)).\n",
    "\n",
    "Array interface protocol attributes (such as `__array_struct__` and\n",
    "`__array_interface__`) are available on Pint Quantities by deferring to the corresponding `__array_*` attribute on the magnitude as casted to an ndarray. This has been found to be potentially incorrect and to cause unexpected behavior, and has therefore been deprecated. As of the next minor version of Pint (or when the `PINT_ARRAY_PROTOCOL_FALLBACK` environment variable is set to 0 prior to importing Pint as done at the beginning of this page), attempting to access these attributes will instead raise an AttributeError."
   ]
  }
 ],
 "metadata": {
  "kernelspec": {
   "display_name": "Python 3",
   "language": "python",
   "name": "python3"
  },
  "language_info": {
   "codemirror_mode": {
    "name": "ipython",
    "version": 3
   },
   "file_extension": ".py",
   "mimetype": "text/x-python",
   "name": "python",
   "nbconvert_exporter": "python",
   "pygments_lexer": "ipython3",
   "version": "3.8.0"
  }
 },
 "nbformat": 4,
 "nbformat_minor": 4
}
